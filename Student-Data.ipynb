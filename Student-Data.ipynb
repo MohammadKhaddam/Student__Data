{
 "cells": [
  {
   "cell_type": "code",
   "execution_count": 4,
   "id": "a9710854",
   "metadata": {},
   "outputs": [],
   "source": [
    "import pandas as pd #(library for data manipulation and cleansing)\n",
    "import numpy as np #(library for data manipulation)\n",
    "import matplotlib.pyplot as plt #(library for data visulazation)\n",
    "import seaborn as sns #(library for data visulazation THIS IS MOSTLY USED FOR VISULAZTION)"
   ]
  },
  {
   "cell_type": "markdown",
   "id": "84638843",
   "metadata": {},
   "source": [
    "**Accomplish the following tasks.**\n",
    "1. Read the data into Python using and name it as “studentdata”\n",
    "2. Display the first row of the data frame to see the variable names.\n"
   ]
  },
  {
   "cell_type": "markdown",
   "id": "b0a6b671",
   "metadata": {},
   "source": [
    "**1. Importing the data:**"
   ]
  },
  {
   "cell_type": "code",
   "execution_count": 5,
   "id": "e06293bf",
   "metadata": {},
   "outputs": [],
   "source": [
    "studentdata=pd.read_excel(\"Studentdata.xlsx\")"
   ]
  },
  {
   "cell_type": "markdown",
   "id": "fe5c9862",
   "metadata": {},
   "source": [
    "**2. Display the first row of the data frame to see the variable names.**"
   ]
  },
  {
   "cell_type": "markdown",
   "id": "22e19b06",
   "metadata": {},
   "source": [
    "Displaying the column names:"
   ]
  },
  {
   "cell_type": "code",
   "execution_count": 22,
   "id": "48ffce1f",
   "metadata": {},
   "outputs": [
    {
     "data": {
      "text/plain": [
       "Index(['Student', 'Height', 'Gender', 'Shoes', 'Number', 'Dvds', 'ToSleep',\n",
       "       'WakeUp', 'Haircut', 'Job', 'Drink'],\n",
       "      dtype='object')"
      ]
     },
     "execution_count": 22,
     "metadata": {},
     "output_type": "execute_result"
    }
   ],
   "source": [
    "studentdata.columns"
   ]
  },
  {
   "cell_type": "markdown",
   "id": "63b63289",
   "metadata": {},
   "source": [
    "**-----------------------------------------------------------------------------------------**"
   ]
  },
  {
   "cell_type": "markdown",
   "id": "759bc828",
   "metadata": {},
   "source": [
    "**i. Let us Summarize and Graph a Single Batch of data (meaning single variable)**\n",
    "\n",
    "**4. Construct a frequency distribution, relative frequency distribution and percentage distribution of the categorical variable Drink. What do you conclude about the drinking habit of students?**\n",
    "\n"
   ]
  },
  {
   "cell_type": "markdown",
   "id": "6e850878",
   "metadata": {},
   "source": [
    "-------------------------------------------\n",
    "Creating a frequency table and storing it in a variable named freq."
   ]
  },
  {
   "cell_type": "code",
   "execution_count": 43,
   "id": "ed205c17",
   "metadata": {},
   "outputs": [],
   "source": [
    "freq=studentdata.Drink.value_counts()"
   ]
  },
  {
   "cell_type": "code",
   "execution_count": 44,
   "id": "1bf2acaa",
   "metadata": {},
   "outputs": [
    {
     "data": {
      "text/plain": [
       "water    355\n",
       "pop      178\n",
       "milk     113\n",
       "Name: Drink, dtype: int64"
      ]
     },
     "execution_count": 44,
     "metadata": {},
     "output_type": "execute_result"
    }
   ],
   "source": [
    "freq"
   ]
  },
  {
   "cell_type": "markdown",
   "id": "9c43cce8",
   "metadata": {},
   "source": [
    "--------------------------------------------------------------------------\n",
    "Creating a relative frequency table and storing it in a variable named r_freq."
   ]
  },
  {
   "cell_type": "code",
   "execution_count": 49,
   "id": "a1b75693",
   "metadata": {},
   "outputs": [
    {
     "data": {
      "text/plain": [
       "water    0.549536\n",
       "pop      0.275542\n",
       "milk     0.174923\n",
       "Name: Drink, dtype: float64"
      ]
     },
     "execution_count": 49,
     "metadata": {},
     "output_type": "execute_result"
    }
   ],
   "source": [
    "r_freq= freq/studentdata.Drink.count()\n",
    "r_freq\n"
   ]
  },
  {
   "cell_type": "markdown",
   "id": "f9f72eff",
   "metadata": {},
   "source": [
    "------------------------------------------------------\n",
    "Creating a percentage distribution:"
   ]
  },
  {
   "cell_type": "code",
   "execution_count": 51,
   "id": "a8a2ae3e",
   "metadata": {},
   "outputs": [
    {
     "data": {
      "text/plain": [
       "water    54.95\n",
       "pop      27.55\n",
       "milk     17.49\n",
       "Name: Drink, dtype: float64"
      ]
     },
     "execution_count": 51,
     "metadata": {},
     "output_type": "execute_result"
    }
   ],
   "source": [
    "round(r_freq*100, 2)"
   ]
  },
  {
   "cell_type": "markdown",
   "id": "c9d58ff0",
   "metadata": {},
   "source": [
    "I can conclude that the majority of students (alomst 55%) prefer to drink water with\n",
    "the evening meal. \n",
    "\n",
    "----------------------------------------------------------------"
   ]
  },
  {
   "cell_type": "markdown",
   "id": "52838f50",
   "metadata": {},
   "source": [
    "**5. Graph the frequency distribution obtained in (4) using bar plot. Make sure to label the x-axis and y-axis.**"
   ]
  },
  {
   "cell_type": "code",
   "execution_count": 53,
   "id": "fd798fd8",
   "metadata": {},
   "outputs": [
    {
     "data": {
      "text/plain": [
       "<AxesSubplot:xlabel='Drink', ylabel='count'>"
      ]
     },
     "execution_count": 53,
     "metadata": {},
     "output_type": "execute_result"
    },
    {
     "data": {
      "image/png": "[encoded data removed]",
      "text/plain": [
       "<Figure size 432x288 with 1 Axes>"
      ]
     },
     "metadata": {
      "needs_background": "light"
     },
     "output_type": "display_data"
    }
   ],
   "source": [
    "sns.countplot(data=studentdata, x=\"Drink\")"
   ]
  },
  {
   "cell_type": "markdown",
   "id": "5a7059d0",
   "metadata": {},
   "source": [
    "**6. Suppose we are interested in examining how long the students slept the previous night. For this, first create a variable HofSleep as:  HofSleep = WakeUp - ToSleep**\n",
    "\n",
    "**a. Obtain five number summary (descriptive) statistic: Min, Q1, Q2, Q3 and Max using summary() command. Interpret the result.**\n",
    "\n",
    "**b. Construct a histogram using hist () command of sleeping times to see its distribution. Discuss the shape of the distribution.**\n"
   ]
  },
  {
   "cell_type": "markdown",
   "id": "cefd38ad",
   "metadata": {},
   "source": [
    "--------------------------------------------------------------------------------------------\n",
    "Creating the new vairable HofSleep"
   ]
  },
  {
   "cell_type": "code",
   "execution_count": 56,
   "id": "48976e7a",
   "metadata": {},
   "outputs": [
    {
     "data": {
      "text/html": [
       "<div>\n",
       "<style scoped>\n",
       "    .dataframe tbody tr th:only-of-type {\n",
       "        vertical-align: middle;\n",
       "    }\n",
       "\n",
       "    .dataframe tbody tr th {\n",
       "        vertical-align: top;\n",
       "    }\n",
       "\n",
       "    .dataframe thead th {\n",
       "        text-align: right;\n",
       "    }\n",
       "</style>\n",
       "<table border=\"1\" class=\"dataframe\">\n",
       "  <thead>\n",
       "    <tr style=\"text-align: right;\">\n",
       "      <th></th>\n",
       "      <th>Student</th>\n",
       "      <th>Height</th>\n",
       "      <th>Gender</th>\n",
       "      <th>Shoes</th>\n",
       "      <th>Number</th>\n",
       "      <th>Dvds</th>\n",
       "      <th>ToSleep</th>\n",
       "      <th>WakeUp</th>\n",
       "      <th>Haircut</th>\n",
       "      <th>Job</th>\n",
       "      <th>Drink</th>\n",
       "      <th>HofSleep</th>\n",
       "    </tr>\n",
       "  </thead>\n",
       "  <tbody>\n",
       "    <tr>\n",
       "      <th>0</th>\n",
       "      <td>1</td>\n",
       "      <td>67.0</td>\n",
       "      <td>female</td>\n",
       "      <td>10.0</td>\n",
       "      <td>5.0</td>\n",
       "      <td>10.0</td>\n",
       "      <td>-2.5</td>\n",
       "      <td>5.5</td>\n",
       "      <td>60.0</td>\n",
       "      <td>30.0</td>\n",
       "      <td>water</td>\n",
       "      <td>8.0</td>\n",
       "    </tr>\n",
       "    <tr>\n",
       "      <th>1</th>\n",
       "      <td>2</td>\n",
       "      <td>64.0</td>\n",
       "      <td>female</td>\n",
       "      <td>20.0</td>\n",
       "      <td>7.0</td>\n",
       "      <td>5.0</td>\n",
       "      <td>1.5</td>\n",
       "      <td>8.0</td>\n",
       "      <td>0.0</td>\n",
       "      <td>20.0</td>\n",
       "      <td>pop</td>\n",
       "      <td>6.5</td>\n",
       "    </tr>\n",
       "    <tr>\n",
       "      <th>2</th>\n",
       "      <td>3</td>\n",
       "      <td>61.0</td>\n",
       "      <td>female</td>\n",
       "      <td>12.0</td>\n",
       "      <td>2.0</td>\n",
       "      <td>6.0</td>\n",
       "      <td>-1.5</td>\n",
       "      <td>7.5</td>\n",
       "      <td>48.0</td>\n",
       "      <td>0.0</td>\n",
       "      <td>milk</td>\n",
       "      <td>9.0</td>\n",
       "    </tr>\n",
       "  </tbody>\n",
       "</table>\n",
       "</div>"
      ],
      "text/plain": [
       "   Student  Height  Gender  Shoes  Number  Dvds  ToSleep  WakeUp  Haircut  \\\n",
       "0        1    67.0  female   10.0     5.0  10.0     -2.5     5.5     60.0   \n",
       "1        2    64.0  female   20.0     7.0   5.0      1.5     8.0      0.0   \n",
       "2        3    61.0  female   12.0     2.0   6.0     -1.5     7.5     48.0   \n",
       "\n",
       "    Job  Drink  HofSleep  \n",
       "0  30.0  water       8.0  \n",
       "1  20.0    pop       6.5  \n",
       "2   0.0   milk       9.0  "
      ]
     },
     "execution_count": 56,
     "metadata": {},
     "output_type": "execute_result"
    }
   ],
   "source": [
    "studentdata['HofSleep']= studentdata['WakeUp']-studentdata['ToSleep']\n",
    "\n",
    "studentdata.head(3)"
   ]
  },
  {
   "cell_type": "markdown",
   "id": "e6897f9a",
   "metadata": {},
   "source": [
    "**a. Obtain five number summary (descriptive) statistic: Min, Q1, Q2, Q3 and Max using summary() command. Interpret the result.**\n",
    "\n",
    "In Python, the equivalente of summary() command is describe()"
   ]
  },
  {
   "cell_type": "code",
   "execution_count": 58,
   "id": "87d5ee4e",
   "metadata": {},
   "outputs": [
    {
     "data": {
      "text/plain": [
       "count    653.000000\n",
       "mean       7.385191\n",
       "std        1.511810\n",
       "min        2.500000\n",
       "25%        6.500000\n",
       "50%        7.500000\n",
       "75%        8.500000\n",
       "max       12.500000\n",
       "Name: HofSleep, dtype: float64"
      ]
     },
     "execution_count": 58,
     "metadata": {},
     "output_type": "execute_result"
    }
   ],
   "source": [
    "studentdata.HofSleep.describe()"
   ]
  },
  {
   "cell_type": "markdown",
   "id": "27db649d",
   "metadata": {},
   "source": [
    "-------------------------------------------------\n",
    "The mean hours of sleep for the students was 7.385 with a standard deviation of 1.5.\n",
    "The minimum hours of sleep was 2.5 hours and the maximum hours of sleep was 12.5; which are\n",
    "considered as extreme values(outliers).\n",
    "The median was 7.5; so, we might indicate that the distribution is bell-shaped because the mean and median are very close.\n",
    "\n",
    "---------------------------------------------------------------------------------"
   ]
  },
  {
   "cell_type": "markdown",
   "id": "98aa6e14",
   "metadata": {},
   "source": [
    "**b. Construct a histogram of sleeping times to see its distribution. Discuss the shape of the distribution.**\n",
    "\n"
   ]
  },
  {
   "cell_type": "code",
   "execution_count": 60,
   "id": "91b47256",
   "metadata": {},
   "outputs": [
    {
     "data": {
      "text/plain": [
       "<AxesSubplot:xlabel='HofSleep', ylabel='Count'>"
      ]
     },
     "execution_count": 60,
     "metadata": {},
     "output_type": "execute_result"
    },
    {
     "data": {
      "image/png": "[encoded data removed]",
      "text/plain": [
       "<Figure size 432x288 with 1 Axes>"
      ]
     },
     "metadata": {
      "needs_background": "light"
     },
     "output_type": "display_data"
    }
   ],
   "source": [
    "sns.histplot(data=studentdata, x=\"HofSleep\")"
   ]
  },
  {
   "cell_type": "markdown",
   "id": "91055893",
   "metadata": {},
   "source": [
    "Another avaible option is a KDE plot that comes with the Seaborn library.\n",
    "A KDE plot is described as Kernel Density Estimate is used for visualizing the Probability Density of a continuous variable."
   ]
  },
  {
   "cell_type": "code",
   "execution_count": 71,
   "id": "583c91b3",
   "metadata": {},
   "outputs": [
    {
     "data": {
      "text/plain": [
       "<AxesSubplot:xlabel='HofSleep', ylabel='Density'>"
      ]
     },
     "execution_count": 71,
     "metadata": {},
     "output_type": "execute_result"
    },
    {
     "data": {
      "image/png": "[encoded data removed]",
      "text/plain": [
       "<Figure size 432x288 with 1 Axes>"
      ]
     },
     "metadata": {
      "needs_background": "light"
     },
     "output_type": "display_data"
    }
   ],
   "source": [
    "sns.kdeplot(data=studentdata, x='HofSleep')\n"
   ]
  },
  {
   "cell_type": "markdown",
   "id": "dee6a6d1",
   "metadata": {},
   "source": [
    "By looking at the histogram and the KDE plot, the shape of the distribution is close to a bell-shape."
   ]
  },
  {
   "cell_type": "markdown",
   "id": "bc0e2bf2",
   "metadata": {},
   "source": [
    "-----------------------------------------------------------------------"
   ]
  },
  {
   "cell_type": "markdown",
   "id": "986513e5",
   "metadata": {},
   "source": [
    "**ii. Let us compare Batches of data**\n",
    "\n",
    "**7. Since the gender of each student was recorded, one can make comparisons between men and women on any of the quantitative variables. Do men tend to sleep longer than women? We can answer this question graphically by constructing parallel boxplots of the sleeping times of men and women. Parallel boxplots can be displayed using the boxplot() command.  What do you conclude?**\n"
   ]
  },
  {
   "cell_type": "code",
   "execution_count": 124,
   "id": "e974e028",
   "metadata": {},
   "outputs": [
    {
     "data": {
      "text/plain": [
       "<AxesSubplot:xlabel='Gender', ylabel='HofSleep'>"
      ]
     },
     "execution_count": 124,
     "metadata": {},
     "output_type": "execute_result"
    },
    {
     "data": {
      "image/png": "[encoded data removed]",
      "text/plain": [
       "<Figure size 432x288 with 1 Axes>"
      ]
     },
     "metadata": {
      "needs_background": "light"
     },
     "output_type": "display_data"
    }
   ],
   "source": [
    "sns.boxplot(data=studentdata, y='HofSleep',x='Gender',showmeans=True,\n",
    "           meanprops={\"marker\":'o','markerfacecolor':'white','markersize':6,'markeredgecolor':'black'})"
   ]
  },
  {
   "cell_type": "markdown",
   "id": "8b64fc89",
   "metadata": {},
   "source": [
    "Based on our data, I notice that Female and Male students tend to sleep almost the same amount of time as their means are almost indentical. We have some outliers in both genders, It is approprate to conduct a hypothesis testing (t-test) to compare the two groups. I will conduct it for the sake of practicing."
   ]
  },
  {
   "cell_type": "code",
   "execution_count": 137,
   "id": "5a85212d",
   "metadata": {},
   "outputs": [
    {
     "data": {
      "text/plain": [
       "Gender\n",
       "female    7.396305\n",
       "male      7.363318\n",
       "Name: HofSleep, dtype: float64"
      ]
     },
     "execution_count": 137,
     "metadata": {},
     "output_type": "execute_result"
    }
   ],
   "source": [
    "studentdata.groupby('Gender')['HofSleep'].mean() #Mean of each Group"
   ]
  },
  {
   "cell_type": "markdown",
   "id": "6f15f060",
   "metadata": {},
   "source": [
    "F-test to check of population has equal varainces or not:\n"
   ]
  },
  {
   "cell_type": "code",
   "execution_count": 185,
   "id": "a95fa9e9",
   "metadata": {},
   "outputs": [],
   "source": [
    "#Isolating the groups and combining them into a one dataframe;then converting to Excel to \n",
    "#conduct the hypothesis testing in Excel:\n",
    "\n",
    "female=studentdata['HofSleep'][studentdata['Gender']=='female'].dropna()\n",
    "female=female.reset_index(drop=True)\n",
    "male=studentdata['HofSleep'][studentdata['Gender']=='male'].dropna()\n",
    "male=male.reset_index(drop=True)\n",
    "\n",
    "Gender_dataframe=pd.concat([male,female],axis=1) #create dataframe\n",
    "#make a dataframe to an excel file and choose its path(destination on my pc):\n",
    "Gender_dataframe.to_excel('C:/Users/anask/OneDrive/Desktop/w.xlsx')"
   ]
  },
  {
   "attachments": {
    "image-3.png": {
     "image/png": "[encoded data removed]"
    }
   },
   "cell_type": "markdown",
   "id": "02bf5f72",
   "metadata": {},
   "source": [
    "**Using Excel: F-test**\n",
    "--------------\n",
    "![image-3.png](attachment:image-3.png)\n",
    "\n",
    "\n",
    "Since p-vale(0.0182) is less than 0.05, we reject the null hypothesis.\n",
    "Therefore, there is a differnce in the population variances between the Male and Female.\n",
    "For that reason, we conduct (t-test with unequal varainces)"
   ]
  },
  {
   "attachments": {
    "image.png": {
     "image/png": "[encoded data removed]"
    }
   },
   "cell_type": "markdown",
   "id": "c90d01da",
   "metadata": {},
   "source": [
    "**Using Excel:**\n",
    "\t\t\n",
    "![image.png](attachment:image.png)\n",
    "\n",
    "------------------------------------------------------------------------------------------\n",
    "Since p-value(0.869) is greater than 0.05. We fail to reject the null hypothesis.\n",
    "Therefore, The data show no evidence that there is a difference in the mean of the hours of sleep between the Males and Female. \n"
   ]
  },
  {
   "cell_type": "markdown",
   "id": "6b2d03f9",
   "metadata": {},
   "source": [
    "------------------------------------------------------------------------\n",
    "**8. For other variables, there could be substantial differences between two genders. Suppose we wish to divide the haircut prices into groups-the haircut prices for the men and the haircut prices for the women. After creating two subsets of the haircut prices, summarize the haircut prices of the women and the men by using the summary() command. What do you conclude?**"
   ]
  },
  {
   "cell_type": "code",
   "execution_count": 195,
   "id": "90b5bc48",
   "metadata": {},
   "outputs": [
    {
     "data": {
      "text/html": [
       "<div>\n",
       "<style scoped>\n",
       "    .dataframe tbody tr th:only-of-type {\n",
       "        vertical-align: middle;\n",
       "    }\n",
       "\n",
       "    .dataframe tbody tr th {\n",
       "        vertical-align: top;\n",
       "    }\n",
       "\n",
       "    .dataframe thead th {\n",
       "        text-align: right;\n",
       "    }\n",
       "</style>\n",
       "<table border=\"1\" class=\"dataframe\">\n",
       "  <thead>\n",
       "    <tr style=\"text-align: right;\">\n",
       "      <th></th>\n",
       "      <th>count</th>\n",
       "      <th>mean</th>\n",
       "      <th>std</th>\n",
       "      <th>min</th>\n",
       "      <th>25%</th>\n",
       "      <th>50%</th>\n",
       "      <th>75%</th>\n",
       "      <th>max</th>\n",
       "    </tr>\n",
       "    <tr>\n",
       "      <th>Gender</th>\n",
       "      <th></th>\n",
       "      <th></th>\n",
       "      <th></th>\n",
       "      <th></th>\n",
       "      <th></th>\n",
       "      <th></th>\n",
       "      <th></th>\n",
       "      <th></th>\n",
       "    </tr>\n",
       "  </thead>\n",
       "  <tbody>\n",
       "    <tr>\n",
       "      <th>female</th>\n",
       "      <td>416.0</td>\n",
       "      <td>34.081466</td>\n",
       "      <td>30.435079</td>\n",
       "      <td>0.0</td>\n",
       "      <td>15.0</td>\n",
       "      <td>25.0</td>\n",
       "      <td>45.0</td>\n",
       "      <td>180.0</td>\n",
       "    </tr>\n",
       "    <tr>\n",
       "      <th>male</th>\n",
       "      <td>221.0</td>\n",
       "      <td>10.536109</td>\n",
       "      <td>8.347169</td>\n",
       "      <td>0.0</td>\n",
       "      <td>0.0</td>\n",
       "      <td>12.0</td>\n",
       "      <td>15.0</td>\n",
       "      <td>75.0</td>\n",
       "    </tr>\n",
       "  </tbody>\n",
       "</table>\n",
       "</div>"
      ],
      "text/plain": [
       "        count       mean        std  min   25%   50%   75%    max\n",
       "Gender                                                           \n",
       "female  416.0  34.081466  30.435079  0.0  15.0  25.0  45.0  180.0\n",
       "male    221.0  10.536109   8.347169  0.0   0.0  12.0  15.0   75.0"
      ]
     },
     "execution_count": 195,
     "metadata": {},
     "output_type": "execute_result"
    }
   ],
   "source": [
    "studentdata.groupby(['Gender'])['Haircut'].describe()"
   ]
  },
  {
   "cell_type": "markdown",
   "id": "e27a932f",
   "metadata": {},
   "source": [
    "We can notice that female students spend much more money on haircuts compared to male students.\n",
    "\n",
    "The mean is 34 dollars for female students and 10.5 dollars for male students. However, we have lots more female students compared to male students, and the mean is known to be affected by high values (outliers) and the female group has more than 55 students where their spending range between 70-180 dollars;therefore, It will be better to conduct another hypothesis testing to compare both groups. \n",
    "\n",
    "------------------------------------------------------------------------------------"
   ]
  },
  {
   "cell_type": "markdown",
   "id": "82aecc06",
   "metadata": {},
   "source": [
    "**a. Construct a scatterplot of “ToSleep” and “Hours of sleep” with “ToSleep” on the horizontal scale and “HofSleep” on the vertical scale. In this plot, you may find that it is a little difficult to see the pattern because many points are identical.**"
   ]
  },
  {
   "cell_type": "code",
   "execution_count": 78,
   "id": "0eb4b964",
   "metadata": {},
   "outputs": [
    {
     "data": {
      "text/plain": [
       "<AxesSubplot:xlabel='ToSleep', ylabel='HofSleep'>"
      ]
     },
     "execution_count": 78,
     "metadata": {},
     "output_type": "execute_result"
    },
    {
     "data": {
      "image/png": "[encoded data removed]",
      "text/plain": [
       "<Figure size 432x288 with 1 Axes>"
      ]
     },
     "metadata": {
      "needs_background": "light"
     },
     "output_type": "display_data"
    }
   ],
   "source": [
    "sns.scatterplot(data=studentdata, x=\"ToSleep\",y='HofSleep')"
   ]
  },
  {
   "cell_type": "markdown",
   "id": "5b8bccdd",
   "metadata": {},
   "source": [
    "b. Now, use the jitter function each variable in (a) (e.g. jitter(ToSleep)) before plotting-this has the effect of adding a small amount of noise so that more points are visible on the graph. Describe the pattern visible in the graph"
   ]
  },
  {
   "cell_type": "markdown",
   "id": "3723e802",
   "metadata": {},
   "source": [
    "Note: Jitter function is currently unfuncational in Seaborn, so I will use other techniques, such as\n",
    "making the colors a little more transparent, using Histograms, KDE plot, and Rug plot (plots every point on the axis as a short line. It will be in red) on the x-axis and y-axis. All of the previous is called a jointplot used in Seaborn library."
   ]
  },
  {
   "cell_type": "code",
   "execution_count": 116,
   "id": "16b41d7b",
   "metadata": {},
   "outputs": [
    {
     "data": {
      "text/plain": [
       "<seaborn.axisgrid.JointGrid at 0x174a0730370>"
      ]
     },
     "execution_count": 116,
     "metadata": {},
     "output_type": "execute_result"
    },
    {
     "data": {
      "image/png": "[encoded data removed]",
      "text/plain": [
       "<Figure size 432x432 with 3 Axes>"
      ]
     },
     "metadata": {
      "needs_background": "light"
     },
     "output_type": "display_data"
    }
   ],
   "source": [
    "x= sns.jointplot(data=studentdata, x=\"ToSleep\",y='HofSleep',\n",
    "              alpha=0.3,kind='scatter',marginal_ticks=True,\n",
    "              joint_kws={'marker':'.',\"color\":'black'},\n",
    "             marginal_kws={'color':\"blue\",'kde':True,'alpha':0.3})\n",
    "x.plot_joint(sns.rugplot,color='red',height=0.1)"
   ]
  },
  {
   "cell_type": "markdown",
   "id": "1f90c6a0",
   "metadata": {},
   "source": [
    "I notice that there is a moderate negative correlation between \"HofSleep\" and \"ToSleep\" variables. The earlier the student goes to bed the more hours he will end up sleeping. \n",
    "\n",
    "-----------------------------------------------------------------------------------"
   ]
  },
  {
   "cell_type": "markdown",
   "id": "9c20d6ef",
   "metadata": {},
   "source": [
    "----------------------------------------------------------------------------------------------\n",
    "**c. Perform least-square fit using the lm() command and include the output. Interpret the slope.**"
   ]
  },
  {
   "cell_type": "markdown",
   "id": "e6c63d6e",
   "metadata": {},
   "source": [
    "I will conduct a quick simple Linear Regression Model without checking any of the assumptions nor splitting the model into a testing and training set because it didn't ask so in the question. Also, my answer might be slightly different because I had to drop some rows."
   ]
  },
  {
   "cell_type": "code",
   "execution_count": 248,
   "id": "9af65f2a",
   "metadata": {},
   "outputs": [
    {
     "data": {
      "text/plain": [
       "LinearRegression()"
      ]
     },
     "execution_count": 248,
     "metadata": {},
     "output_type": "execute_result"
    }
   ],
   "source": [
    "from sklearn.linear_model import LinearRegression\n",
    "x=studentdata['ToSleep'].reset_index(drop=True).dropna()\n",
    "X=np.array(x.head(653)).reshape(-1, 1)\n",
    "y=studentdata['HofSleep'].reset_index(drop=True).dropna()\n",
    "y=np.array(y)\n",
    "lm=LinearRegression()\n",
    "lm.fit(X,y)"
   ]
  },
  {
   "cell_type": "code",
   "execution_count": 249,
   "id": "66b07af7",
   "metadata": {},
   "outputs": [
    {
     "name": "stdout",
     "output_type": "stream",
     "text": [
      "The coeficient: [-0.23562495] and the slope:  7.620130785513102\n"
     ]
    }
   ],
   "source": [
    "print(\"The coeficient:\",lm.coef_,'and the slope: ',lm.intercept_)"
   ]
  },
  {
   "cell_type": "markdown",
   "id": "43349e0c",
   "metadata": {},
   "source": [
    "Y= -0.2356X + 7.62\n",
    "\n",
    "Interperting the Slope:\n",
    "when x=0 which means the student sleeps at 12:00 AM; he will sleep for 7.62 hours."
   ]
  },
  {
   "cell_type": "markdown",
   "id": "a53f9cd6",
   "metadata": {},
   "source": [
    "-----------------------------------------------------------------------------------------\n",
    "**d. Display the fitted regression line on the top of the scatterplot constructed in (b) by using the abline() command.**"
   ]
  },
  {
   "cell_type": "code",
   "execution_count": 270,
   "id": "0d93ac7d",
   "metadata": {},
   "outputs": [
    {
     "data": {
      "text/plain": [
       "<seaborn.axisgrid.FacetGrid at 0x174a797ad00>"
      ]
     },
     "execution_count": 270,
     "metadata": {},
     "output_type": "execute_result"
    },
    {
     "data": {
      "image/png": "[encoded data removed]",
      "text/plain": [
       "<Figure size 360x360 with 1 Axes>"
      ]
     },
     "metadata": {
      "needs_background": "light"
     },
     "output_type": "display_data"
    }
   ],
   "source": [
    "sns.lmplot(data=studentdata, x='ToSleep',y='HofSleep',\n",
    "           ci=None,scatter_kws={'color':'green'},line_kws={'color':'red'})"
   ]
  },
  {
   "cell_type": "code",
   "execution_count": null,
   "id": "c2de4c4b",
   "metadata": {},
   "outputs": [],
   "source": []
  }
 ],
 "metadata": {
  "kernelspec": {
   "display_name": "Python 3",
   "language": "python",
   "name": "python3"
  },
  "language_info": {
   "codemirror_mode": {
    "name": "ipython",
    "version": 3
   },
   "file_extension": ".py",
   "mimetype": "text/x-python",
   "name": "python",
   "nbconvert_exporter": "python",
   "pygments_lexer": "ipython3",
   "version": "3.8.8"
  }
 },
 "nbformat": 4,
 "nbformat_minor": 5
}
